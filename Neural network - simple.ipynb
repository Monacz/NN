{
 "cells": [
  {
   "cell_type": "markdown",
   "metadata": {},
   "source": [
    "В цій практичній роботі ми спробуємо реалізувати нейронну мережу з двох шарів (прихований і вихідний). Запропонований підхід стане заготовкою для реалізації наступних оптимізацій: MBGD, ADAM та регуляризації. \n",
    "\n",
    "Сьогодні ж вам пропонується додати до цього класу підтримку довільної кількості шарів та нейронів в них (наприклад, передавати їх параметром в конструктор, як це робиться в MLPClassifier за допомогою hidden_layer_sizes). Також потрібно передбачити можливість ранньої зупинки ітераційного процесу, якщо значення штрафної функції не покращуватиметься протягом певної кількості ітерацій. Наприклад, якщо протягом $k$ ітерацій штрафна функція за модулем не стане меншою, ніж на поточному кроці."
   ]
  },
  {
   "cell_type": "code",
   "execution_count": 32,
   "metadata": {},
   "outputs": [],
   "source": [
    "import numpy as np\n",
    "import pandas as pd\n",
    "from sklearn.model_selection import train_test_split\n",
    "from mpl_toolkits.mplot3d import Axes3D\n",
    "import matplotlib.pyplot as plt\n",
    "\n",
    "from matplotlib.colors import ListedColormap\n",
    "cm_bright = ListedColormap(['#FF0000', '#0000FF'])\n",
    "%matplotlib inline\n",
    "from sklearn.metrics import accuracy_score\n",
    "\n",
    "import sklearn.linear_model"
   ]
  },
  {
   "cell_type": "code",
   "execution_count": 33,
   "metadata": {},
   "outputs": [],
   "source": [
    "def plot_surface(cls, x_1, x_2, ax=None, threshold=0.5, contourf=False):\n",
    "    xx1, xx2 = np.meshgrid(np.linspace(x_1.min(), x_1.max(), 100), \n",
    "                           np.linspace(x_2.min(), x_2.max(), 100))\n",
    "\n",
    "    X_pred = np.c_[xx1.ravel(), xx2.ravel()]\n",
    "    pred = cls.predict_proba(X_pred)[:, 0]\n",
    "    Z = pred.reshape((100, 100))\n",
    "    if ax is None:\n",
    "        ax = plt.gca()\n",
    "    ax.contour(xx1, xx2, Z, levels=[threshold], colors='black')\n",
    "    ax.set_xlim((x_1.min(), x_1.max()))\n",
    "    ax.set_ylim((x_2.min(), x_2.max()))"
   ]
  },
  {
   "cell_type": "code",
   "execution_count": 34,
   "metadata": {},
   "outputs": [],
   "source": [
    "def plot_data(X, y):\n",
    "    ax = plt.gca()\n",
    "    ax.scatter(X[:,0], X[:,1], c=(y == 1), cmap=cm_bright)"
   ]
  },
  {
   "cell_type": "code",
   "execution_count": 35,
   "metadata": {},
   "outputs": [],
   "source": [
    "class NeuralNet:\n",
    "    \"\"\"\n",
    "    NN for binary classification\n",
    "    Attributes:\n",
    "    ...\n",
    "    \"\"\"\n",
    "    \n",
    "    def __init__(self, normalize = True, learning_rate = 0.01, num_iter = 30000,num_node=[20,1],accuracy=0.00001):\n",
    "        self.learning_rate = learning_rate\n",
    "        self.num_iter = num_iter\n",
    "        self.normalize = normalize\n",
    "        self.num_layer=len(num_node)\n",
    "        self.num_node=num_node\n",
    "        self.accuracy=accuracy\n",
    "        self.W=None\n",
    "        self.b=None\n",
    "        self.Z=None\n",
    "        self.A=None\n",
    "        self.dW=None\n",
    "        self.db=None\n",
    "        self.dZ=None\n",
    "        self.dA=None\n",
    "    \n",
    "    def __normalize(self, X, mean = None, std = None):\n",
    "        \"\"\"\n",
    "        Зверніть увагу, що нормалізація вхідних даних є дуже важливою для швидкодії нейронних мереж.\n",
    "        \"\"\"\n",
    "        n = X.shape[0]\n",
    "        m = mean\n",
    "        if m is None:\n",
    "            m = np.mean(X, axis=1).reshape((n, 1))\n",
    "        s = std\n",
    "        if s is None:\n",
    "            s = np.std(X, axis=1).reshape((n, 1))\n",
    "        X_new = (X - m) / s**2\n",
    "        return X_new, m, s\n",
    "\n",
    "    def __sigmoid(self, Z):\n",
    "        \"\"\"\n",
    "        В наступних практичних потрібно буде додати підтримку й інших активаційних функцій - це один з гіперпараметрів. \n",
    "        Їх можна вибирати для всіх шарів одночасно або мати різні активаційні функції на кожному з них.\n",
    "        \"\"\"\n",
    "        return 1 / (1 + np.exp(-Z))\n",
    "    \n",
    "    def __initialize_parameters(self, n_x):\n",
    "        self.W=[]\n",
    "        self.W.append(list(np.random.randn(self.num_node[0], n_x) * 0.01))\n",
    "        self.b=[np.zeros((self.num_node[i], 1)) for i in range(self.num_layer)]\n",
    "        self.W=self.W+[list((np.random.randn(self.num_node[i],self.num_node[i-1])*  0.01)) for i in range(1,self.num_layer)]\n",
    "\n",
    "       \n",
    "    def __forward_propagation(self, X):\n",
    "\n",
    "        self.Z=[]\n",
    "        self.A=[]\n",
    "        self.Z.append(np.dot(self.W[0], X) + self.b[0])\n",
    "        self.A.append(self.__sigmoid(self.Z[0]))\n",
    "\n",
    "        for i in range(1,len(self.W)):\n",
    "            self.Z.append(np.dot(self.W[i], self.A[i-1]) + self.b[i])\n",
    "            self.A.append(self.__sigmoid(self.Z[i]))\n",
    "        return self.A[-1]\n",
    "    \n",
    "    def compute_cost(self, A, Y):\n",
    "        m = Y.shape[1]\n",
    "        res = Y * np.log(A) + (1 - Y) * np.log(1 - A)\n",
    "        J = -(1 / m) * np.sum(res)\n",
    "        return J\n",
    "        \n",
    "    def __backward_propagation(self, X, Y):\n",
    "        m = X.shape[1]\n",
    "        n = X.shape[0]\n",
    "        W, b,Z, A=self.W,self.b,self.Z,self.A\n",
    "        self.dW,self.db,self.dZ,self.dA=[],[],[],[]\n",
    "\n",
    "        self.dZ.append(A[-1] - Y)\n",
    "        self.dW.append(1. / m * np.dot(self.dZ[-1], A[-2].T))\n",
    "        self.db.append(1. / m * np.sum(self.dZ[-1], axis = 1, keepdims = True))\n",
    "        self.dA.append(np.dot(np.array(W[-1]).T, self.dZ[-1]))       \n",
    "\n",
    "\n",
    "        for i in range(self.num_layer-1):\n",
    "#             if(self.num_layer-2-i<0):break\n",
    "            self.dZ.append(np.multiply(self.dA[i], np.multiply(A[self.num_layer-2-i], 1 - A[self.num_layer-2-i])))\n",
    "            if(self.num_layer-3-i>=0):\n",
    "                self.dW.append( 1. / m * np.dot(self.dZ[i+1], A[self.num_layer-3-i].T))\n",
    "            else:\n",
    "                self.dW.append( 1. / m * np.dot(self.dZ[i+1], X.T))\n",
    "            self.db.append( 1. / m * np.sum(self.dZ[i+1], axis = 1, keepdims = True))\n",
    "            self.dA.append(np.dot(np.array(W[self.num_layer-2-i]).T, self.dZ[i+1]))\n",
    "       \n",
    "        self.dW.reverse()\n",
    "        self.db.reverse()\n",
    "        self.dZ.reverse()\n",
    "        self.dA.reverse()\n",
    "\n",
    "    \n",
    "    def __update_parameters(self):\n",
    "        \n",
    "        for i in range(self.num_layer):\n",
    "            self.W[i] = self.W[i] - self.learning_rate * self.dW[i]\n",
    "            self.b[i] = self.b[i] - self.learning_rate * self.db[i]\n",
    "\n",
    "        \n",
    "    def fit(self, X_vert, Y_vert, print_cost = True):\n",
    "        \n",
    "        X, Y = X_vert.T, Y_vert.T\n",
    "        \n",
    "        if self.normalize:\n",
    "            X, self.__mean, self.__std = self.__normalize(X)\n",
    "        \n",
    "        costs = []\n",
    "        check = []\n",
    "        m = X.shape[1]\n",
    "        n_x = X.shape[0]\n",
    "        \n",
    "        self.__initialize_parameters(n_x)\n",
    " \n",
    "        for i in range(self.num_iter):\n",
    "            A = self.__forward_propagation(X)\n",
    "\n",
    "            cost = self.compute_cost(A, Y)\n",
    "\n",
    "            self.__backward_propagation(X, Y)\n",
    "\n",
    "            self.__update_parameters()\n",
    "        \n",
    "            check.append(cost)\n",
    "            if print_cost and i % 1000 == 0:\n",
    "                print(\"{}-th iteration: {}\".format(i, cost))\n",
    "\n",
    "            if i % 1000 == 0:\n",
    "                costs.append(cost)\n",
    "                \n",
    "            if(len(check)>2 and abs(check[i]-check[i-1])<self.accuracy):\n",
    "                break\n",
    "\n",
    "        if print_cost:\n",
    "            plt.plot(costs)\n",
    "            plt.ylabel(\"Cost\")\n",
    "            plt.xlabel(\"Iteration, *1000\")\n",
    "            plt.show()\n",
    "    \n",
    "    def predict_proba(self, X_vert):\n",
    "        X = X_vert.T\n",
    "        if self.normalize:\n",
    "            X, _, _ = self.__normalize(X, self.__mean, self.__std)\n",
    "        \n",
    "        probs = self.__forward_propagation(X)[0]\n",
    "        \n",
    "        return np.column_stack((probs.T, 1 - probs.T))\n",
    "    \n",
    "    def predict(self, X_vert):\n",
    "        positive_probs = self.predict_proba(X_vert)[:, 0]\n",
    "        return (positive_probs >= 0.5).astype(int)\n"
   ]
  },
  {
   "cell_type": "markdown",
   "metadata": {},
   "source": [
    "Спочатку спробуйте цей клас на одній задачі, а потім на іншій."
   ]
  },
  {
   "cell_type": "code",
   "execution_count": 36,
   "metadata": {},
   "outputs": [],
   "source": [
    "#data_columns = [\"exam1\", \"exam2\"]\n",
    "#target_column = \"submitted\"\n",
    "#df = pd.read_csv(\"sats.csv\")\n",
    "#X, Y = df[data_columns].values, df[target_column].reshape((df.shape[0], 1))\n",
    "#print('Training set: X={}, y={}'.format(X.shape, Y.shape))"
   ]
  },
  {
   "cell_type": "code",
   "execution_count": 37,
   "metadata": {},
   "outputs": [
    {
     "name": "stdout",
     "output_type": "stream",
     "text": [
      "Training set: X=(118, 2), y=(118,)\n"
     ]
    }
   ],
   "source": [
    "data_columns = [\"test1\", \"test2\"]\n",
    "target_column = \"passed\"\n",
    "df = pd.read_csv(\"tests.csv\")\n",
    "X, Y = df[data_columns].values, df[target_column]\n",
    "print('Training set: X={}, y={}'.format(X.shape, Y.shape))"
   ]
  },
  {
   "cell_type": "code",
   "execution_count": 38,
   "metadata": {},
   "outputs": [
    {
     "data": {
      "image/png": "[encoded data removed]",
      "text/plain": [
       "<Figure size 432x288 with 1 Axes>"
      ]
     },
     "metadata": {
      "needs_background": "light"
     },
     "output_type": "display_data"
    }
   ],
   "source": [
    "plot_data(X, Y)"
   ]
  },
  {
   "cell_type": "code",
   "execution_count": 39,
   "metadata": {},
   "outputs": [],
   "source": [
    "cls = NeuralNet(normalize = True, learning_rate = 0.5, num_iter = 4000,num_node=[5,20,],accuracy=0.00000000001)"
   ]
  },
  {
   "cell_type": "code",
   "execution_count": 40,
   "metadata": {},
   "outputs": [
    {
     "name": "stdout",
     "output_type": "stream",
     "text": [
      "0-th iteration: 13.863293609177456\n",
      "1000-th iteration: 7.901939611063956\n",
      "2000-th iteration: 7.28661230091932\n",
      "3000-th iteration: 7.035579949762264\n"
     ]
    },
    {
     "data": {
      "image/png": "[encoded data removed]",
      "text/plain": [
       "<Figure size 432x288 with 1 Axes>"
      ]
     },
     "metadata": {
      "needs_background": "light"
     },
     "output_type": "display_data"
    }
   ],
   "source": [
    "cls.fit(X, Y.values.reshape((df.shape[0], 1)))"
   ]
  },
  {
   "cell_type": "code",
   "execution_count": 41,
   "metadata": {},
   "outputs": [
    {
     "ename": "AttributeError",
     "evalue": "'NeuralNet' object has no attribute 'parameters'",
     "output_type": "error",
     "traceback": [
      "\u001b[1;31m---------------------------------------------------------------------------\u001b[0m",
      "\u001b[1;31mAttributeError\u001b[0m                            Traceback (most recent call last)",
      "\u001b[1;32m<ipython-input-41-464b70843f64>\u001b[0m in \u001b[0;36m<module>\u001b[1;34m\u001b[0m\n\u001b[1;32m----> 1\u001b[1;33m \u001b[0mprint\u001b[0m\u001b[1;33m(\u001b[0m\u001b[0mcls\u001b[0m\u001b[1;33m.\u001b[0m\u001b[0mparameters\u001b[0m\u001b[1;33m)\u001b[0m\u001b[1;33m\u001b[0m\u001b[1;33m\u001b[0m\u001b[0m\n\u001b[0m",
      "\u001b[1;31mAttributeError\u001b[0m: 'NeuralNet' object has no attribute 'parameters'"
     ]
    }
   ],
   "source": [
    "#print(cls.parameters)"
   ]
  },
  {
   "cell_type": "code",
   "execution_count": 42,
   "metadata": {},
   "outputs": [
    {
     "data": {
      "text/plain": [
       "array([[7.00960533e-01, 2.99039467e-01],\n",
       "       [3.96714962e-01, 6.03285038e-01],\n",
       "       [1.06090263e-01, 8.93909737e-01],\n",
       "       [1.66609944e-01, 8.33390056e-01],\n",
       "       [2.35672453e-02, 9.76432755e-01],\n",
       "       [7.60888839e-01, 2.39111161e-01],\n",
       "       [4.01956326e-02, 9.59804367e-01],\n",
       "       [4.30920132e-01, 5.69079868e-01],\n",
       "       [5.97121387e-01, 4.02878613e-01],\n",
       "       [9.26219375e-01, 7.37806252e-02],\n",
       "       [8.36576963e-01, 1.63423037e-01],\n",
       "       [4.41177847e-01, 5.58822153e-01],\n",
       "       [3.14638169e-01, 6.85361831e-01],\n",
       "       [1.08526068e-02, 9.89147393e-01],\n",
       "       [6.76691501e-01, 3.23308499e-01],\n",
       "       [5.76278948e-01, 4.23721052e-01],\n",
       "       [5.89393725e-01, 4.10606275e-01],\n",
       "       [9.80892073e-01, 1.91079267e-02],\n",
       "       [6.27138650e-01, 3.72861350e-01],\n",
       "       [3.07405189e-02, 9.69259481e-01],\n",
       "       [9.99327972e-01, 6.72028320e-04],\n",
       "       [8.47159522e-01, 1.52840478e-01],\n",
       "       [9.89001562e-01, 1.09984378e-02],\n",
       "       [1.23733790e-02, 9.87626621e-01],\n",
       "       [3.67938027e-01, 6.32061973e-01],\n",
       "       [9.38547785e-01, 6.14522149e-02],\n",
       "       [4.24400262e-01, 5.75599738e-01],\n",
       "       [3.13983460e-02, 9.68601654e-01],\n",
       "       [3.09917749e-01, 6.90082251e-01],\n",
       "       [7.01828502e-01, 2.98171498e-01],\n",
       "       [9.80439690e-01, 1.95603096e-02],\n",
       "       [6.67016904e-01, 3.32983096e-01],\n",
       "       [4.53737315e-01, 5.46262685e-01],\n",
       "       [9.98559003e-01, 1.44099736e-03],\n",
       "       [6.86614951e-03, 9.93133850e-01],\n",
       "       [4.71810303e-01, 5.28189697e-01],\n",
       "       [2.56325637e-01, 7.43674363e-01],\n",
       "       [3.54785722e-01, 6.45214278e-01],\n",
       "       [9.99347569e-01, 6.52431447e-04],\n",
       "       [2.29407514e-01, 7.70592486e-01],\n",
       "       [6.37714096e-03, 9.93622859e-01],\n",
       "       [5.10240190e-01, 4.89759810e-01],\n",
       "       [7.77246074e-03, 9.92227539e-01],\n",
       "       [2.47976098e-02, 9.75202390e-01],\n",
       "       [3.48995189e-01, 6.51004811e-01],\n",
       "       [9.98848397e-01, 1.15160344e-03],\n",
       "       [5.61680627e-03, 9.94383194e-01],\n",
       "       [3.41734744e-01, 6.58265256e-01],\n",
       "       [3.43146999e-01, 6.56853001e-01],\n",
       "       [7.48213746e-02, 9.25178625e-01],\n",
       "       [6.69529777e-01, 3.30470223e-01],\n",
       "       [1.98959789e-01, 8.01040211e-01],\n",
       "       [9.99296954e-01, 7.03046161e-04],\n",
       "       [6.11338675e-03, 9.93886613e-01],\n",
       "       [6.40111984e-01, 3.59888016e-01],\n",
       "       [1.07362357e-02, 9.89263764e-01],\n",
       "       [8.26225681e-03, 9.91737743e-01],\n",
       "       [3.50739369e-01, 6.49260631e-01],\n",
       "       [6.31897326e-01, 3.68102674e-01],\n",
       "       [7.28221983e-01, 2.71778017e-01],\n",
       "       [7.08958199e-01, 2.91041801e-01],\n",
       "       [9.76088339e-01, 2.39116613e-02],\n",
       "       [1.15226755e-02, 9.88477324e-01],\n",
       "       [3.49089180e-01, 6.50910820e-01],\n",
       "       [7.34773134e-01, 2.65226866e-01],\n",
       "       [9.46085164e-01, 5.39148361e-02],\n",
       "       [1.21445891e-03, 9.98785541e-01],\n",
       "       [8.08452005e-03, 9.91915480e-01],\n",
       "       [6.90579953e-01, 3.09420047e-01],\n",
       "       [3.49016369e-01, 6.50983631e-01],\n",
       "       [9.98755486e-01, 1.24451382e-03],\n",
       "       [5.62656052e-01, 4.37343948e-01],\n",
       "       [9.97720290e-01, 2.27971037e-03],\n",
       "       [8.72379063e-01, 1.27620937e-01],\n",
       "       [5.25180873e-01, 4.74819127e-01],\n",
       "       [9.99365095e-01, 6.34904686e-04],\n",
       "       [5.55606239e-01, 4.44393761e-01],\n",
       "       [8.79391687e-01, 1.20608313e-01],\n",
       "       [6.86172074e-01, 3.13827926e-01],\n",
       "       [6.81226601e-01, 3.18773399e-01],\n",
       "       [8.79492709e-02, 9.12050729e-01],\n",
       "       [9.99345133e-01, 6.54867360e-04],\n",
       "       [9.99239266e-01, 7.60733645e-04],\n",
       "       [3.35201135e-01, 6.64798865e-01],\n",
       "       [3.97395610e-02, 9.60260439e-01],\n",
       "       [5.62304444e-01, 4.37695556e-01],\n",
       "       [3.80726132e-02, 9.61927387e-01],\n",
       "       [1.04773645e-02, 9.89522635e-01],\n",
       "       [5.87715347e-01, 4.12284653e-01],\n",
       "       [3.49018482e-01, 6.50981518e-01],\n",
       "       [1.75496313e-02, 9.82450369e-01],\n",
       "       [9.03609707e-01, 9.63902934e-02],\n",
       "       [9.06061955e-01, 9.39380449e-02],\n",
       "       [3.49289565e-01, 6.50710435e-01],\n",
       "       [3.47479272e-01, 6.52520728e-01],\n",
       "       [9.94037184e-03, 9.90059628e-01],\n",
       "       [9.93803666e-01, 6.19633411e-03],\n",
       "       [9.00293510e-02, 9.09970649e-01],\n",
       "       [3.49111851e-01, 6.50888149e-01],\n",
       "       [6.70678058e-01, 3.29321942e-01],\n",
       "       [9.96924058e-01, 3.07594229e-03],\n",
       "       [9.94899154e-01, 5.10084582e-03],\n",
       "       [3.88045792e-01, 6.11954208e-01],\n",
       "       [9.48957077e-03, 9.90510429e-01],\n",
       "       [3.49081071e-01, 6.50918929e-01],\n",
       "       [9.94427666e-01, 5.57233403e-03],\n",
       "       [2.43862502e-02, 9.75613750e-01],\n",
       "       [4.74883006e-01, 5.25116994e-01],\n",
       "       [3.74107966e-01, 6.25892034e-01],\n",
       "       [8.61289781e-01, 1.38710219e-01],\n",
       "       [1.35200483e-01, 8.64799517e-01],\n",
       "       [9.24157464e-01, 7.58425363e-02],\n",
       "       [3.53320496e-01, 6.46679504e-01],\n",
       "       [9.99334312e-01, 6.65688445e-04],\n",
       "       [2.27541649e-01, 7.72458351e-01],\n",
       "       [3.66300563e-01, 6.33699437e-01],\n",
       "       [3.16435492e-01, 6.83564508e-01],\n",
       "       [4.41696926e-01, 5.58303074e-01]])"
      ]
     },
     "execution_count": 42,
     "metadata": {},
     "output_type": "execute_result"
    }
   ],
   "source": [
    "Y_prob = cls.predict_proba(X)\n",
    "Y_prob"
   ]
  },
  {
   "cell_type": "code",
   "execution_count": null,
   "metadata": {},
   "outputs": [],
   "source": [
    "Y_hat = cls.predict(X)\n",
    "Y_hat"
   ]
  },
  {
   "cell_type": "code",
   "execution_count": null,
   "metadata": {},
   "outputs": [],
   "source": [
    "accuracy_score(Y, Y_hat)"
   ]
  },
  {
   "cell_type": "code",
   "execution_count": null,
   "metadata": {},
   "outputs": [],
   "source": [
    "plot_data(X, Y)\n",
    "plot_surface(cls, X[:, 0], X[:, 1])"
   ]
  },
  {
   "cell_type": "markdown",
   "metadata": {},
   "source": [
    "Зверніть увагу на границю прийняття рішення. Модель старається побудувати складну криву, що може свідчити про її перетренування. Порівняйте отримані результати з класом з sklearn. Спробуйте додати нові шари для нашого класу та порівняти результати тоді. Поекспериментуйте з гіперпараметрами для обох класів."
   ]
  },
  {
   "cell_type": "code",
   "execution_count": null,
   "metadata": {},
   "outputs": [],
   "source": [
    "from sklearn.neural_network import MLPClassifier\n",
    "clf = MLPClassifier(hidden_layer_sizes = (20,), max_iter = 10000, activation = 'relu', solver = 'sgd', learning_rate_init = 0.01, learning_rate = 'constant')"
   ]
  },
  {
   "cell_type": "code",
   "execution_count": null,
   "metadata": {},
   "outputs": [],
   "source": [
    "clf.fit(X, Y)"
   ]
  },
  {
   "cell_type": "code",
   "execution_count": null,
   "metadata": {},
   "outputs": [],
   "source": [
    "plot_data(X, Y)\n",
    "plot_surface(clf, X[:, 0], X[:, 1])"
   ]
  },
  {
   "cell_type": "code",
   "execution_count": 18,
   "metadata": {},
   "outputs": [
    {
     "data": {
      "text/plain": [
       "0.8389830508474576"
      ]
     },
     "execution_count": 18,
     "metadata": {},
     "output_type": "execute_result"
    }
   ],
   "source": [
    "accuracy_score(Y, clf.predict(X))"
   ]
  },
  {
   "cell_type": "code",
   "execution_count": null,
   "metadata": {
    "collapsed": true
   },
   "outputs": [],
   "source": []
  }
 ],
 "metadata": {
  "anaconda-cloud": {},
  "kernelspec": {
   "display_name": "Python 3",
   "language": "python",
   "name": "python3"
  },
  "language_info": {
   "codemirror_mode": {
    "name": "ipython",
    "version": 3
   },
   "file_extension": ".py",
   "mimetype": "text/x-python",
   "name": "python",
   "nbconvert_exporter": "python",
   "pygments_lexer": "ipython3",
   "version": "3.7.4"
  }
 },
 "nbformat": 4,
 "nbformat_minor": 1
}
